{
 "cells": [
  {
   "cell_type": "code",
   "execution_count": 1,
   "metadata": {},
   "outputs": [
    {
     "ename": "FileNotFoundError",
     "evalue": "[Errno 2] No such file or directory: 'Vax_v2.xlsx'",
     "output_type": "error",
     "traceback": [
      "\u001b[0;31m---------------------------------------------------------------------------\u001b[0m",
      "\u001b[0;31mFileNotFoundError\u001b[0m                         Traceback (most recent call last)",
      "Cell \u001b[0;32mIn[1], line 6\u001b[0m\n\u001b[1;32m      3\u001b[0m \u001b[38;5;28;01mimport\u001b[39;00m \u001b[38;5;21;01mnumpy\u001b[39;00m \u001b[38;5;28;01mas\u001b[39;00m \u001b[38;5;21;01mnp\u001b[39;00m\n\u001b[1;32m      5\u001b[0m \u001b[38;5;66;03m#dfsiero = pd.read_csv('siero_v2.csv', sep=',', header=0, index_col=0)\u001b[39;00m\n\u001b[0;32m----> 6\u001b[0m dfsiero \u001b[38;5;241m=\u001b[39m \u001b[43mpd\u001b[49m\u001b[38;5;241;43m.\u001b[39;49m\u001b[43mread_excel\u001b[49m\u001b[43m(\u001b[49m\u001b[38;5;124;43m'\u001b[39;49m\u001b[38;5;124;43mVax_v2.xlsx\u001b[39;49m\u001b[38;5;124;43m'\u001b[39;49m\u001b[43m,\u001b[49m\u001b[43m \u001b[49m\u001b[43msheet_name\u001b[49m\u001b[38;5;241;43m=\u001b[39;49m\u001b[38;5;124;43m'\u001b[39;49m\u001b[38;5;124;43mRawdata\u001b[39;49m\u001b[38;5;124;43m'\u001b[39;49m\u001b[43m)\u001b[49m\n\u001b[1;32m      7\u001b[0m dfsiero\n",
      "File \u001b[0;32m~/.local/lib/python3.8/site-packages/pandas/util/_decorators.py:211\u001b[0m, in \u001b[0;36mdeprecate_kwarg.<locals>._deprecate_kwarg.<locals>.wrapper\u001b[0;34m(*args, **kwargs)\u001b[0m\n\u001b[1;32m    209\u001b[0m     \u001b[38;5;28;01melse\u001b[39;00m:\n\u001b[1;32m    210\u001b[0m         kwargs[new_arg_name] \u001b[38;5;241m=\u001b[39m new_arg_value\n\u001b[0;32m--> 211\u001b[0m \u001b[38;5;28;01mreturn\u001b[39;00m \u001b[43mfunc\u001b[49m\u001b[43m(\u001b[49m\u001b[38;5;241;43m*\u001b[39;49m\u001b[43margs\u001b[49m\u001b[43m,\u001b[49m\u001b[43m \u001b[49m\u001b[38;5;241;43m*\u001b[39;49m\u001b[38;5;241;43m*\u001b[39;49m\u001b[43mkwargs\u001b[49m\u001b[43m)\u001b[49m\n",
      "File \u001b[0;32m~/.local/lib/python3.8/site-packages/pandas/util/_decorators.py:331\u001b[0m, in \u001b[0;36mdeprecate_nonkeyword_arguments.<locals>.decorate.<locals>.wrapper\u001b[0;34m(*args, **kwargs)\u001b[0m\n\u001b[1;32m    325\u001b[0m \u001b[38;5;28;01mif\u001b[39;00m \u001b[38;5;28mlen\u001b[39m(args) \u001b[38;5;241m>\u001b[39m num_allow_args:\n\u001b[1;32m    326\u001b[0m     warnings\u001b[38;5;241m.\u001b[39mwarn(\n\u001b[1;32m    327\u001b[0m         msg\u001b[38;5;241m.\u001b[39mformat(arguments\u001b[38;5;241m=\u001b[39m_format_argument_list(allow_args)),\n\u001b[1;32m    328\u001b[0m         \u001b[38;5;167;01mFutureWarning\u001b[39;00m,\n\u001b[1;32m    329\u001b[0m         stacklevel\u001b[38;5;241m=\u001b[39mfind_stack_level(),\n\u001b[1;32m    330\u001b[0m     )\n\u001b[0;32m--> 331\u001b[0m \u001b[38;5;28;01mreturn\u001b[39;00m \u001b[43mfunc\u001b[49m\u001b[43m(\u001b[49m\u001b[38;5;241;43m*\u001b[39;49m\u001b[43margs\u001b[49m\u001b[43m,\u001b[49m\u001b[43m \u001b[49m\u001b[38;5;241;43m*\u001b[39;49m\u001b[38;5;241;43m*\u001b[39;49m\u001b[43mkwargs\u001b[49m\u001b[43m)\u001b[49m\n",
      "File \u001b[0;32m~/.local/lib/python3.8/site-packages/pandas/io/excel/_base.py:482\u001b[0m, in \u001b[0;36mread_excel\u001b[0;34m(io, sheet_name, header, names, index_col, usecols, squeeze, dtype, engine, converters, true_values, false_values, skiprows, nrows, na_values, keep_default_na, na_filter, verbose, parse_dates, date_parser, thousands, decimal, comment, skipfooter, convert_float, mangle_dupe_cols, storage_options)\u001b[0m\n\u001b[1;32m    480\u001b[0m \u001b[38;5;28;01mif\u001b[39;00m \u001b[38;5;129;01mnot\u001b[39;00m \u001b[38;5;28misinstance\u001b[39m(io, ExcelFile):\n\u001b[1;32m    481\u001b[0m     should_close \u001b[38;5;241m=\u001b[39m \u001b[38;5;28;01mTrue\u001b[39;00m\n\u001b[0;32m--> 482\u001b[0m     io \u001b[38;5;241m=\u001b[39m \u001b[43mExcelFile\u001b[49m\u001b[43m(\u001b[49m\u001b[43mio\u001b[49m\u001b[43m,\u001b[49m\u001b[43m \u001b[49m\u001b[43mstorage_options\u001b[49m\u001b[38;5;241;43m=\u001b[39;49m\u001b[43mstorage_options\u001b[49m\u001b[43m,\u001b[49m\u001b[43m \u001b[49m\u001b[43mengine\u001b[49m\u001b[38;5;241;43m=\u001b[39;49m\u001b[43mengine\u001b[49m\u001b[43m)\u001b[49m\n\u001b[1;32m    483\u001b[0m \u001b[38;5;28;01melif\u001b[39;00m engine \u001b[38;5;129;01mand\u001b[39;00m engine \u001b[38;5;241m!=\u001b[39m io\u001b[38;5;241m.\u001b[39mengine:\n\u001b[1;32m    484\u001b[0m     \u001b[38;5;28;01mraise\u001b[39;00m \u001b[38;5;167;01mValueError\u001b[39;00m(\n\u001b[1;32m    485\u001b[0m         \u001b[38;5;124m\"\u001b[39m\u001b[38;5;124mEngine should not be specified when passing \u001b[39m\u001b[38;5;124m\"\u001b[39m\n\u001b[1;32m    486\u001b[0m         \u001b[38;5;124m\"\u001b[39m\u001b[38;5;124man ExcelFile - ExcelFile already has the engine set\u001b[39m\u001b[38;5;124m\"\u001b[39m\n\u001b[1;32m    487\u001b[0m     )\n",
      "File \u001b[0;32m~/.local/lib/python3.8/site-packages/pandas/io/excel/_base.py:1652\u001b[0m, in \u001b[0;36mExcelFile.__init__\u001b[0;34m(self, path_or_buffer, engine, storage_options)\u001b[0m\n\u001b[1;32m   1650\u001b[0m     ext \u001b[38;5;241m=\u001b[39m \u001b[38;5;124m\"\u001b[39m\u001b[38;5;124mxls\u001b[39m\u001b[38;5;124m\"\u001b[39m\n\u001b[1;32m   1651\u001b[0m \u001b[38;5;28;01melse\u001b[39;00m:\n\u001b[0;32m-> 1652\u001b[0m     ext \u001b[38;5;241m=\u001b[39m \u001b[43minspect_excel_format\u001b[49m\u001b[43m(\u001b[49m\n\u001b[1;32m   1653\u001b[0m \u001b[43m        \u001b[49m\u001b[43mcontent_or_path\u001b[49m\u001b[38;5;241;43m=\u001b[39;49m\u001b[43mpath_or_buffer\u001b[49m\u001b[43m,\u001b[49m\u001b[43m \u001b[49m\u001b[43mstorage_options\u001b[49m\u001b[38;5;241;43m=\u001b[39;49m\u001b[43mstorage_options\u001b[49m\n\u001b[1;32m   1654\u001b[0m \u001b[43m    \u001b[49m\u001b[43m)\u001b[49m\n\u001b[1;32m   1655\u001b[0m     \u001b[38;5;28;01mif\u001b[39;00m ext \u001b[38;5;129;01mis\u001b[39;00m \u001b[38;5;28;01mNone\u001b[39;00m:\n\u001b[1;32m   1656\u001b[0m         \u001b[38;5;28;01mraise\u001b[39;00m \u001b[38;5;167;01mValueError\u001b[39;00m(\n\u001b[1;32m   1657\u001b[0m             \u001b[38;5;124m\"\u001b[39m\u001b[38;5;124mExcel file format cannot be determined, you must specify \u001b[39m\u001b[38;5;124m\"\u001b[39m\n\u001b[1;32m   1658\u001b[0m             \u001b[38;5;124m\"\u001b[39m\u001b[38;5;124man engine manually.\u001b[39m\u001b[38;5;124m\"\u001b[39m\n\u001b[1;32m   1659\u001b[0m         )\n",
      "File \u001b[0;32m~/.local/lib/python3.8/site-packages/pandas/io/excel/_base.py:1525\u001b[0m, in \u001b[0;36minspect_excel_format\u001b[0;34m(content_or_path, storage_options)\u001b[0m\n\u001b[1;32m   1522\u001b[0m \u001b[38;5;28;01mif\u001b[39;00m \u001b[38;5;28misinstance\u001b[39m(content_or_path, \u001b[38;5;28mbytes\u001b[39m):\n\u001b[1;32m   1523\u001b[0m     content_or_path \u001b[38;5;241m=\u001b[39m BytesIO(content_or_path)\n\u001b[0;32m-> 1525\u001b[0m \u001b[38;5;28;01mwith\u001b[39;00m \u001b[43mget_handle\u001b[49m\u001b[43m(\u001b[49m\n\u001b[1;32m   1526\u001b[0m \u001b[43m    \u001b[49m\u001b[43mcontent_or_path\u001b[49m\u001b[43m,\u001b[49m\u001b[43m \u001b[49m\u001b[38;5;124;43m\"\u001b[39;49m\u001b[38;5;124;43mrb\u001b[39;49m\u001b[38;5;124;43m\"\u001b[39;49m\u001b[43m,\u001b[49m\u001b[43m \u001b[49m\u001b[43mstorage_options\u001b[49m\u001b[38;5;241;43m=\u001b[39;49m\u001b[43mstorage_options\u001b[49m\u001b[43m,\u001b[49m\u001b[43m \u001b[49m\u001b[43mis_text\u001b[49m\u001b[38;5;241;43m=\u001b[39;49m\u001b[38;5;28;43;01mFalse\u001b[39;49;00m\n\u001b[1;32m   1527\u001b[0m \u001b[43m\u001b[49m\u001b[43m)\u001b[49m \u001b[38;5;28;01mas\u001b[39;00m handle:\n\u001b[1;32m   1528\u001b[0m     stream \u001b[38;5;241m=\u001b[39m handle\u001b[38;5;241m.\u001b[39mhandle\n\u001b[1;32m   1529\u001b[0m     stream\u001b[38;5;241m.\u001b[39mseek(\u001b[38;5;241m0\u001b[39m)\n",
      "File \u001b[0;32m~/.local/lib/python3.8/site-packages/pandas/io/common.py:865\u001b[0m, in \u001b[0;36mget_handle\u001b[0;34m(path_or_buf, mode, encoding, compression, memory_map, is_text, errors, storage_options)\u001b[0m\n\u001b[1;32m    856\u001b[0m         handle \u001b[38;5;241m=\u001b[39m \u001b[38;5;28mopen\u001b[39m(\n\u001b[1;32m    857\u001b[0m             handle,\n\u001b[1;32m    858\u001b[0m             ioargs\u001b[38;5;241m.\u001b[39mmode,\n\u001b[0;32m   (...)\u001b[0m\n\u001b[1;32m    861\u001b[0m             newline\u001b[38;5;241m=\u001b[39m\u001b[38;5;124m\"\u001b[39m\u001b[38;5;124m\"\u001b[39m,\n\u001b[1;32m    862\u001b[0m         )\n\u001b[1;32m    863\u001b[0m     \u001b[38;5;28;01melse\u001b[39;00m:\n\u001b[1;32m    864\u001b[0m         \u001b[38;5;66;03m# Binary mode\u001b[39;00m\n\u001b[0;32m--> 865\u001b[0m         handle \u001b[38;5;241m=\u001b[39m \u001b[38;5;28;43mopen\u001b[39;49m\u001b[43m(\u001b[49m\u001b[43mhandle\u001b[49m\u001b[43m,\u001b[49m\u001b[43m \u001b[49m\u001b[43mioargs\u001b[49m\u001b[38;5;241;43m.\u001b[39;49m\u001b[43mmode\u001b[49m\u001b[43m)\u001b[49m\n\u001b[1;32m    866\u001b[0m     handles\u001b[38;5;241m.\u001b[39mappend(handle)\n\u001b[1;32m    868\u001b[0m \u001b[38;5;66;03m# Convert BytesIO or file objects passed with an encoding\u001b[39;00m\n",
      "\u001b[0;31mFileNotFoundError\u001b[0m: [Errno 2] No such file or directory: 'Vax_v2.xlsx'"
     ]
    }
   ],
   "source": [
    "#open csv file siero_v2.csv in a pandas dataframe\n",
    "import pandas as pd\n",
    "import numpy as np\n",
    "\n",
    "#dfsiero = pd.read_csv('siero_v2.csv', sep=',', header=0, index_col=0)\n",
    "dfsiero = pd.read_excel('Vax_v2.xlsx', sheet_name='Rawdata')\n",
    "dfsiero"
   ]
  },
  {
   "cell_type": "code",
   "execution_count": 2,
   "metadata": {},
   "outputs": [
    {
     "data": {
      "text/plain": [
       "2972"
      ]
     },
     "execution_count": 2,
     "metadata": {},
     "output_type": "execute_result"
    }
   ],
   "source": [
    "#count how many missing values are in column dateincidentcovid12\n",
    "missing_values = dfsiero['dateincidentcovid12'].isnull().sum()\n",
    "missing_values"
   ]
  },
  {
   "cell_type": "code",
   "execution_count": 19,
   "metadata": {},
   "outputs": [],
   "source": [
    "dfsiero['TypeofOutcome_updated'] = dfsiero['TypeofOutcome_updated'].fillna(9)"
   ]
  },
  {
   "cell_type": "code",
   "execution_count": 13,
   "metadata": {},
   "outputs": [],
   "source": [
    "#make all missing values in cplumns who_f1, who_f2, who_f3, who_f4 equal to 9\n",
    "dfsiero['WHO_f1'] = dfsiero['WHO_f1'].fillna(9)\n",
    "dfsiero['WHO_f2'] = dfsiero['WHO_f2'].fillna(9)\n",
    "dfsiero['WHO_f3'] = dfsiero['WHO_f3'].fillna(9)\n",
    "dfsiero['WHO_f4'] = dfsiero['WHO_f4'].fillna(9)"
   ]
  },
  {
   "cell_type": "code",
   "execution_count": 20,
   "metadata": {},
   "outputs": [],
   "source": [
    "listofacto = ['Gender', 'Race', 'numberdoses', 'mobcat', 'PA3mcat', 'totndrugs', 'frailty01', 'CKD01', 'poornut01', 'cancer01', 'immunedis01', 'IBD01', 'liverdis01', \n",
    "              'DM01_tot', 'OAD01_tot', 'HTA01_tot', 'CVD01_tot', 'AF01_tot', 'PAD01_tot', 'chrrespdis01_tot', 'obesity01_tot', 'depress01_tot',\n",
    "              'cogdis01_tot', 'park01_tot', 'thyrdis01_tot', 'epilepsia01_tot', 'anxiety01_tot', 'HD01_tot', 'urol01_tot', 'Mmsumrev', 'excovidtot', 'antiS_0', 'antiS_2', \n",
    "              'antiS_6', 'antiS_12','deltaantiS02','deltaantiS26' , 'deltaantiS612','covid6m', 'covid12m', 'WHO_f1', 'WHO_f2', 'WHO_f3', 'WHO_f4', 'TypeofOutcome_updated']\n",
    "\n",
    "with open('who.pl', 'w') as f:\n",
    "    i=0\n",
    "    count=0\n",
    "    #for each row of the dfsiero dataframe (each patient)\n",
    "    for index,row in dfsiero.iterrows():\n",
    "        #print(row['Newpatient'])\n",
    "        #for each column of the row (each attribute)\n",
    "        f.write('%patient: ' + row['Newpatient'] + \" index:\" + str(i)+'\\n')\n",
    "        for col in dfsiero.columns:\n",
    "            #if the value of the attribute is not NaN and the attribute is in the list of the attributes to translate\n",
    "            if not pd.isnull(row[col]) and col in listofacto:\n",
    "                if col == 'covid6m' or col == 'covid12m' or col == 'excovidtot'or col == 'frailty01' or col=='CKD01' or col == 'poornut01' or col == 'cancer01' or col == 'immunedis01' or col == 'IBD01' or col == 'liverdis01' or col == 'DM01_tot' or col == 'OAD01_tot' or col == 'HTA01_tot' or col == 'CVD01_tot' or col == 'AF01_tot' or col == 'PAD01_tot' or col == 'chrrespdis01_tot' or col == 'obesity01_tot' or col == 'depress01_tot' or col == 'cogdis01_tot' or col == 'park01_tot' or col == 'thyrdis01_tot' or col == 'epilepsia01_tot' or col == 'anxiety01_tot' or col == 'HD01_tot' or col == 'urol01_tot':\n",
    "                    #print the fact in the file\n",
    "                    if row[col]!=0 :\n",
    "                     f.write(col + '('+row['Newpatient'].replace('-','_')+').\\n')\n",
    "                #print the fact in the file\n",
    "                #TODO: aggiungere tutti gli attributi a valori interi nel dataset\n",
    "                elif col == 'mobcat' or col == 'PA3mcat' or col == 'numberdoses' or col == 'totndrugs' or col =='Mmsumrev' or col == 'excovidtot' or col == 'covid6m' or col == 'covid12m' or col == 'WHO_f1' or col == 'WHO_f2' or col == 'WHO_f3' or col == 'WHO_f4' or col == 'TypeofOutcome_updated' :\n",
    "                #print the value of the column as an integer\n",
    "                    f.write(col + '('+row['Newpatient'].replace('-','_')+',' + str(int(row[col])) + ').\\n')\n",
    "                elif col == 'Gender':\n",
    "                    #if the value is 1 print m if the value is 2 print f\n",
    "                    if row[col] == 1:\n",
    "                        f.write(col + '('+row['Newpatient'].replace('-','_')+',' + 'm' + ').\\n')\n",
    "                    elif row[col] == 2:\n",
    "                        f.write(col + '('+row['Newpatient'].replace('-','_')+',' + 'f' + ').\\n')\n",
    "                else:\n",
    "                    f.write(col + '('+row['Newpatient'].replace('-','_')+',' + str(row[col]) + ').\\n')\n",
    "\n",
    "            \n",
    "        if row['WHO_f1'] == 3 or row['WHO_f1'] == 4 or row['WHO_f1'] == 5  or row['WHO_f2'] == 3 or row['WHO_f2'] == 4 or row['WHO_f2'] == 5 or row['WHO_f3'] == 3 or row['WHO_f3'] == 4 or row['WHO_f3'] == 5 or row['WHO_f4'] == 3 or row['WHO_f4'] == 4 or row['WHO_f4'] == 5:\n",
    "            f.write('patient('+row['Newpatient'].replace('-','_')+','+'pos'+').\\n')\n",
    "            count = 0  \n",
    "        else:\n",
    "            f.write('patient('+row['Newpatient'].replace('-','_')+','+ 'neg'+').\\n')\n",
    "\n",
    "\n",
    "        i += 1\n",
    "        f.write('\\n')\n"
   ]
  },
  {
   "cell_type": "code",
   "execution_count": 21,
   "metadata": {},
   "outputs": [],
   "source": [
    "import re\n",
    "with open('who.pl', 'r') as f:\n",
    "    with open('lowwho.pl', 'w') as g:\n",
    "        for line in f:\n",
    "            g.write(line.lower())\n",
    "\n",
    "\n",
    "#remove '01_tot' from the attributes in the file factstolowerunderscore2.pl\n",
    "with open('lowwho.pl', 'r') as f:\n",
    "    with open('attwho.pl', 'w') as g:\n",
    "        for line in f:\n",
    "            g.write(re.sub(r'01_tot', '', line))"
   ]
  },
  {
   "cell_type": "code",
   "execution_count": 22,
   "metadata": {},
   "outputs": [],
   "source": [
    "#remove '01_tot' from the attributes in the file factstolowerunderscore2.pl\n",
    "with open('attwho.pl', 'r') as f:\n",
    "    with open('whoFinal.pl', 'w') as g:\n",
    "        for line in f:\n",
    "            if line.startswith('frailty01'):\n",
    "                 g.write(re.sub(r'frailty01', 'frailty', line))\n",
    "            elif line.startswith('ckd01'):  \n",
    "                g.write(re.sub(r'ckd01', 'ckd', line))\n",
    "            elif line.startswith('poornut01'):\n",
    "                 g.write(re.sub(r'poornut01', 'poornut', line) )\n",
    "            elif line.startswith('cancer01'):\n",
    "                 g.write(re.sub(r'cancer01', 'cancer', line))\n",
    "            elif line.startswith('immunedis01'):\n",
    "                g.write(re.sub(r'immunedis01', 'immunedis', line))\n",
    "            elif line.startswith('ibd01'):\n",
    "                g.write(re.sub(r'ibd01', 'ibd', line))\n",
    "            elif line.startswith('liverdis01'):\n",
    "                g.write(re.sub(r'liverdis01', 'liverdis', line))\n",
    "            else:\n",
    "                g.write(line)\n",
    "            "
   ]
  },
  {
   "cell_type": "code",
   "execution_count": null,
   "metadata": {},
   "outputs": [],
   "source": []
  }
 ],
 "metadata": {
  "kernelspec": {
   "display_name": "Python 3",
   "language": "python",
   "name": "python3"
  },
  "language_info": {
   "codemirror_mode": {
    "name": "ipython",
    "version": 3
   },
   "file_extension": ".py",
   "mimetype": "text/x-python",
   "name": "python",
   "nbconvert_exporter": "python",
   "pygments_lexer": "ipython3",
   "version": "3.8.10"
  }
 },
 "nbformat": 4,
 "nbformat_minor": 2
}
